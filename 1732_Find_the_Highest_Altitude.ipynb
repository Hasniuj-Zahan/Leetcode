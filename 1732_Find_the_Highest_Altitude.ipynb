{
  "nbformat": 4,
  "nbformat_minor": 0,
  "metadata": {
    "colab": {
      "provenance": []
    },
    "kernelspec": {
      "name": "python3",
      "display_name": "Python 3"
    },
    "language_info": {
      "name": "python"
    }
  },
  "cells": [
    {
      "cell_type": "markdown",
      "source": [
        "There is a biker going on a road trip. The road trip consists of n + 1 points at different altitudes. The biker starts his trip on point 0 with altitude equal 0.\n",
        "\n",
        "You are given an integer array gain of length n where gain[i] is the net gain in altitude between points i​​​​​​ and i + 1 for all (0 <= i < n). Return the highest altitude of a point."
      ],
      "metadata": {
        "id": "k_jqlGl9ac5N"
      }
    },
    {
      "cell_type": "code",
      "execution_count": null,
      "metadata": {
        "colab": {
          "base_uri": "https://localhost:8080/"
        },
        "id": "jvS5xTgr9q65",
        "outputId": "6481e954-9c5c-4d4a-9cc1-5ababf24d679"
      },
      "outputs": [
        {
          "output_type": "stream",
          "name": "stdout",
          "text": [
            "[3, 4, 6, 16, 17]\n"
          ]
        }
      ],
      "source": [
        "class Solution:\n",
        "    def largestAltitude(self, gain: List[int]) -> int:\n",
        "        altitudes = [0]\n",
        "        x=0\n",
        "        max=0\n",
        "        for i in range(len(gain)):\n",
        "            x = x+gain[i]\n",
        "            altitudes.append(x)\n",
        "\n",
        "        for j in range(len(altitudes)):\n",
        "            if altitudes[j]> max:\n",
        "                max = altitudes[j]\n",
        "\n",
        "        return max\n",
        ""
      ]
    }
  ]
}