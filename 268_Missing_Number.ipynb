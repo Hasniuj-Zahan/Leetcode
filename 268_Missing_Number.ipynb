{
  "nbformat": 4,
  "nbformat_minor": 0,
  "metadata": {
    "colab": {
      "provenance": []
    },
    "kernelspec": {
      "name": "python3",
      "display_name": "Python 3"
    },
    "language_info": {
      "name": "python"
    }
  },
  "cells": [
    {
      "cell_type": "markdown",
      "source": [
        "Given an array nums containing n distinct numbers in the range [0, n], return the only number in the range that is missing from the array."
      ],
      "metadata": {
        "id": "hQ-0TgePM4th"
      }
    },
    {
      "cell_type": "code",
      "source": [
        "class Solution:\n",
        "    def missingNumber(self, nums: List[int]) -> int:\n",
        "        n = len(nums)\n",
        "        nums =set(nums)\n",
        "        l = set(range(0,n+1))\n",
        "        answer = list(l.difference(nums))\n",
        "        if len(answer)>0:\n",
        "            return(answer[0])\n",
        "        else:\n",
        "            return(0)"
      ],
      "metadata": {
        "colab": {
          "base_uri": "https://localhost:8080/"
        },
        "id": "N3pi31NIuv1f",
        "outputId": "b9bbe39c-b597-4ff0-b620-239fe7e50288"
      },
      "execution_count": 22,
      "outputs": [
        {
          "output_type": "execute_result",
          "data": {
            "text/plain": [
              "[2]"
            ]
          },
          "metadata": {},
          "execution_count": 22
        }
      ]
    }
  ]
}