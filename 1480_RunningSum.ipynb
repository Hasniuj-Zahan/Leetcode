{
  "nbformat": 4,
  "nbformat_minor": 0,
  "metadata": {
    "colab": {
      "provenance": []
    },
    "kernelspec": {
      "name": "python3",
      "display_name": "Python 3"
    },
    "language_info": {
      "name": "python"
    }
  },
  "cells": [
    {
      "cell_type": "markdown",
      "source": [
        "Given an array nums. We define a running sum of an array as runningSum[i] = sum(nums[0]…nums[i]).\n",
        "\n",
        "Return the running sum of nums."
      ],
      "metadata": {
        "id": "k_jqlGl9ac5N"
      }
    },
    {
      "cell_type": "code",
      "execution_count": null,
      "metadata": {
        "colab": {
          "base_uri": "https://localhost:8080/"
        },
        "id": "jvS5xTgr9q65",
        "outputId": "6481e954-9c5c-4d4a-9cc1-5ababf24d679"
      },
      "outputs": [
        {
          "output_type": "stream",
          "name": "stdout",
          "text": [
            "[3, 4, 6, 16, 17]\n"
          ]
        }
      ],
      "source": [
        "class Solution:\n",
        "    def runningSum(self, nums: List[int]) -> List[int]:\n",
        "        z=0\n",
        "        for i in range(len(nums)):\n",
        "\n",
        "            nums[i] = nums[i]+z\n",
        "            z = nums[i]\n",
        "        return(nums)"
      ]
    }
  ]
}