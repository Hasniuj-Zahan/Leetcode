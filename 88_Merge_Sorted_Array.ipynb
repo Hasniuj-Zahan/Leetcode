{
  "nbformat": 4,
  "nbformat_minor": 0,
  "metadata": {
    "colab": {
      "provenance": []
    },
    "kernelspec": {
      "name": "python3",
      "display_name": "Python 3"
    },
    "language_info": {
      "name": "python"
    }
  },
  "cells": [
    {
      "cell_type": "markdown",
      "source": [
        "You are given two integer arrays nums1 and nums2, sorted in non-decreasing order, and two integers m and n, representing the number of elements in nums1 and nums2 respectively.\n",
        "\n",
        "Merge nums1 and nums2 into a single array sorted in non-decreasing order.\n",
        "\n",
        "The final sorted array should not be returned by the function, but instead be stored inside the array nums1. To accommodate this, nums1 has a length of m + n, where the first m elements denote the elements that should be merged, and the last n elements are set to 0 and should be ignored. nums2 has a length of n."
      ],
      "metadata": {
        "id": "OMIHeZfcEkrE"
      }
    },
    {
      "cell_type": "code",
      "execution_count": 15,
      "metadata": {
        "id": "PoZ6nv_iEj5r",
        "colab": {
          "base_uri": "https://localhost:8080/"
        },
        "outputId": "ba3bd92c-b26b-4d61-d3c9-ad675f122043"
      },
      "outputs": [
        {
          "output_type": "execute_result",
          "data": {
            "text/plain": [
              "[1, 4, 2, 3, 5, 6]"
            ]
          },
          "metadata": {},
          "execution_count": 15
        }
      ],
      "source": [
        "class Solution:\n",
        "    def merge(self, nums1: List[int], m: int, nums2: List[int], n: int) -> None:\n",
        "        nums3 =nums1[:m]\n",
        "        i = 0\n",
        "        j = 0\n",
        "        r = 0\n",
        "        while i<m and j<n:\n",
        "            if nums3[i]>nums2[j]:\n",
        "                nums1[r]= nums2[j]\n",
        "                j += 1\n",
        "            else:\n",
        "                nums1[r] = nums3[i]\n",
        "                i +=1\n",
        "            r +=1\n",
        "        while j < n:\n",
        "            nums1[r] = nums2[j]\n",
        "            j += 1\n",
        "            r +=1\n",
        "\n",
        "        while i < m:\n",
        "            nums1[r]= nums3[i]\n",
        "            i += 1\n",
        "            r +=1"
      ]
    }
  ]
}