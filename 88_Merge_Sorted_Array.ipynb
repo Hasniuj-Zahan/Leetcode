class Solution:
    def merge(self, nums1: List[int], m: int, nums2: List[int], n: int) -> None:
        nums3 =nums1[:m]
        i = 0
        j = 0
        r = 0
        while i<m and j<n:
            if nums3[i]>nums2[j]:
                nums1[r]= nums2[j]
                j += 1
            else:
                nums1[r] = nums3[i]
                i +=1
            r +=1
        while j < n:
            nums1[r] = nums2[j]
            j += 1
            r +=1
        
        while i < m:
            nums1[r]= nums3[i]
            i += 1
            r +=1
