{
  "nbformat": 4,
  "nbformat_minor": 0,
  "metadata": {
    "colab": {
      "provenance": []
    },
    "kernelspec": {
      "name": "python3",
      "display_name": "Python 3"
    },
    "language_info": {
      "name": "python"
    }
  },
  "cells": [
    {
      "cell_type": "markdown",
      "source": [
        "Write a function to find the longest common prefix string amongst an array of strings.\n",
        "\n",
        "If there is no common prefix, return an empty string \"\"."
      ],
      "metadata": {
        "id": "Ar-S85lmwh8A"
      }
    },
    {
      "cell_type": "code",
      "execution_count": null,
      "metadata": {
        "id": "Qi6Yptn1wd55"
      },
      "outputs": [],
      "source": [
        "class Solution:\n",
        "    def longestCommonPrefix(self, strs: List[str]) -> str:\n",
        "        x = strs[0]\n",
        "\n",
        "        for i in range(len(strs)):\n",
        "            y = ''\n",
        "            if len(strs[i])<len(x):\n",
        "                for letter in range(len(strs[i])):\n",
        "\n",
        "                    if strs[i][letter]!= x[letter]:\n",
        "                        break\n",
        "                    y=y+x[letter]\n",
        "\n",
        "            else:\n",
        "                for letter in range(len(x)):\n",
        "                    if strs[i][letter]!=x[letter]:\n",
        "                        break\n",
        "                    y=y+x[letter]\n",
        "            x = y\n",
        "        return(y)"
      ]
    }
  ]
}