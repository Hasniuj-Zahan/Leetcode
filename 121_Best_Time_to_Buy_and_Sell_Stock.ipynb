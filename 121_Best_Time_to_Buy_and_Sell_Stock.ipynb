{
  "nbformat": 4,
  "nbformat_minor": 0,
  "metadata": {
    "colab": {
      "provenance": []
    },
    "kernelspec": {
      "name": "python3",
      "display_name": "Python 3"
    },
    "language_info": {
      "name": "python"
    }
  },
  "cells": [
    {
      "cell_type": "markdown",
      "source": [
        "You are given an array prices where prices[i] is the price of a given stock on the ith day.\n",
        "\n",
        "You want to maximize your profit by choosing a single day to buy one stock and choosing a different day in the future to sell that stock.\n",
        "\n",
        "Return the maximum profit you can achieve from this transaction. If you cannot achieve any profit, return 0."
      ],
      "metadata": {
        "id": "hQ-0TgePM4th"
      }
    },
    {
      "cell_type": "code",
      "execution_count": 21,
      "metadata": {
        "colab": {
          "base_uri": "https://localhost:8080/"
        },
        "id": "kPtEn0ie9f9m",
        "outputId": "a464195e-fa6e-4d08-fb79-0acd8b84dcc1"
      },
      "outputs": [
        {
          "output_type": "stream",
          "name": "stdout",
          "text": [
            "1\n"
          ]
        }
      ],
      "source": [
        "class Solution:\n",
        "    def maxProfit(self, prices: List[int]) -> int:\n",
        "        buy_price=prices[0]\n",
        "        day = 0\n",
        "        profit = [0]\n",
        "        i = 0\n",
        "\n",
        "        for i in range(i, len(prices)-1):\n",
        "            if buy_price >= prices[i] and prices[i] < prices[i+1]:\n",
        "                buy_price=prices[i]\n",
        "                day=i\n",
        "                sell_price = buy_price\n",
        "                for j in range(day, len(prices)):\n",
        "                    if sell_price < prices[j]:\n",
        "                        sell_price = prices[j]\n",
        "                    profit.append(sell_price-buy_price)\n",
        "            else:\n",
        "                continue\n",
        "\n",
        "        return(max(profit))"
      ]
    }
  ]
}