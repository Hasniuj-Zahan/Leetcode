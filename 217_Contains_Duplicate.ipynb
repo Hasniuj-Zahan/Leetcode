{
  "nbformat": 4,
  "nbformat_minor": 0,
  "metadata": {
    "colab": {
      "provenance": []
    },
    "kernelspec": {
      "name": "python3",
      "display_name": "Python 3"
    },
    "language_info": {
      "name": "python"
    }
  },
  "cells": [
    {
      "cell_type": "markdown",
      "source": [
        "Given an integer array nums, return true if any value appears at least twice in the array, and return false if every element is distinct."
      ],
      "metadata": {
        "id": "hQ-0TgePM4th"
      }
    },
    {
      "cell_type": "code",
      "source": [
        "class Solution:\n",
        "    def containsDuplicate(self, nums: List[int]) -> bool:\n",
        "\n",
        "        unique=set()\n",
        "        for i in range(len(nums)):\n",
        "            digit = nums[i]\n",
        "            if digit in unique:\n",
        "                return (True)\n",
        "                break\n",
        "            else:\n",
        "                unique.add(nums[i])\n",
        "                continue\n",
        "\n",
        "        return False"
      ],
      "metadata": {
        "id": "N3pi31NIuv1f"
      },
      "execution_count": 39,
      "outputs": []
    }
  ]
}