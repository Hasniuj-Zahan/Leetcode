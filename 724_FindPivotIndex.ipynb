{
  "nbformat": 4,
  "nbformat_minor": 0,
  "metadata": {
    "colab": {
      "provenance": []
    },
    "kernelspec": {
      "name": "python3",
      "display_name": "Python 3"
    },
    "language_info": {
      "name": "python"
    }
  },
  "cells": [
    {
      "cell_type": "markdown",
      "source": [
        "Given an array of integers nums, calculate the pivot index of this array.\n",
        "\n",
        "The pivot index is the index where the sum of all the numbers strictly to the left of the index is equal to the sum of all the numbers strictly to the index's right.\n",
        "\n",
        "If the index is on the left edge of the array, then the left sum is 0 because there are no elements to the left. This also applies to the right edge of the array.\n",
        "\n",
        "Return the leftmost pivot index. If no such index exists, return -1."
      ],
      "metadata": {
        "id": "4RvqihAGIVRW"
      }
    },
    {
      "cell_type": "code",
      "execution_count": null,
      "metadata": {
        "id": "3foX87DY9UtA"
      },
      "outputs": [],
      "source": [
        "class Solution:\n",
        "    def pivotIndex(self, nums: List[int]) -> int:\n",
        "        #pivot index\n",
        "\n",
        "        left_sum=0\n",
        "        total = sum(nums)\n",
        "        for i,x in enumerate(nums):\n",
        "\n",
        "            if left_sum == total - left_sum - x:\n",
        "                return i\n",
        "            left_sum += x\n",
        "        return -1"
      ]
    }
  ]
}